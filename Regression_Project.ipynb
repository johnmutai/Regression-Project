{
  "nbformat": 4,
  "nbformat_minor": 0,
  "metadata": {
    "colab": {
      "provenance": []
    },
    "kernelspec": {
      "name": "python3",
      "display_name": "Python 3"
    },
    "language_info": {
      "name": "python"
    }
  },
  "cells": [
    {
      "cell_type": "markdown",
      "source": [
        "# Introduction to Regression Project"
      ],
      "metadata": {
        "id": "xihqhbS7sIS3"
      }
    },
    {
      "cell_type": "markdown",
      "source": [
        "## 1. Import the necessary libraries and load the data"
      ],
      "metadata": {
        "id": "JerP1yhw35vq"
      }
    },
    {
      "cell_type": "code",
      "execution_count": 11,
      "metadata": {
        "id": "pqh4Zo5i26ll"
      },
      "outputs": [],
      "source": [
        "import pandas as pd\n",
        "from sklearn.tree import DecisionTreeClassifier\n",
        "from sklearn.ensemble import RandomForestClassifier\n",
        "from sklearn.linear_model import LogisticRegression\n",
        "from sklearn.metrics import accuracy_score\n",
        "from sklearn.model_selection import train_test_split\n",
        "\n",
        "users = pd.read_csv(\"https://bit.ly/UsersBehaviourTelco\")\n"
      ]
    },
    {
      "cell_type": "markdown",
      "source": [
        "## 2. Data cleaning and Preparation:\n",
        "a. View first few records\n",
        "b. Check the shape of data\n",
        "c. Check for and deal with missing values\n",
        "d. Check for and deal with duplicates"
      ],
      "metadata": {
        "id": "xBucjtkEsWHT"
      }
    },
    {
      "cell_type": "code",
      "source": [
        "# Read first ten records of the data\n",
        "\n",
        "users.head()"
      ],
      "metadata": {
        "colab": {
          "base_uri": "https://localhost:8080/",
          "height": 206
        },
        "id": "wYRlQQ-2iokD",
        "outputId": "9674df2a-c531-457b-d78b-9de595a3ce5d"
      },
      "execution_count": 12,
      "outputs": [
        {
          "output_type": "execute_result",
          "data": {
            "text/plain": [
              "   calls  minutes  messages   mb_used  is_ultra\n",
              "0   40.0   311.90      83.0  19915.42         0\n",
              "1   85.0   516.75      56.0  22696.96         0\n",
              "2   77.0   467.66      86.0  21060.45         0\n",
              "3  106.0   745.53      81.0   8437.39         1\n",
              "4   66.0   418.74       1.0  14502.75         0"
            ],
            "text/html": [
              "\n",
              "  <div id=\"df-ab8b0484-abfe-4e9f-8d48-3a8e3088bbe9\">\n",
              "    <div class=\"colab-df-container\">\n",
              "      <div>\n",
              "<style scoped>\n",
              "    .dataframe tbody tr th:only-of-type {\n",
              "        vertical-align: middle;\n",
              "    }\n",
              "\n",
              "    .dataframe tbody tr th {\n",
              "        vertical-align: top;\n",
              "    }\n",
              "\n",
              "    .dataframe thead th {\n",
              "        text-align: right;\n",
              "    }\n",
              "</style>\n",
              "<table border=\"1\" class=\"dataframe\">\n",
              "  <thead>\n",
              "    <tr style=\"text-align: right;\">\n",
              "      <th></th>\n",
              "      <th>calls</th>\n",
              "      <th>minutes</th>\n",
              "      <th>messages</th>\n",
              "      <th>mb_used</th>\n",
              "      <th>is_ultra</th>\n",
              "    </tr>\n",
              "  </thead>\n",
              "  <tbody>\n",
              "    <tr>\n",
              "      <th>0</th>\n",
              "      <td>40.0</td>\n",
              "      <td>311.90</td>\n",
              "      <td>83.0</td>\n",
              "      <td>19915.42</td>\n",
              "      <td>0</td>\n",
              "    </tr>\n",
              "    <tr>\n",
              "      <th>1</th>\n",
              "      <td>85.0</td>\n",
              "      <td>516.75</td>\n",
              "      <td>56.0</td>\n",
              "      <td>22696.96</td>\n",
              "      <td>0</td>\n",
              "    </tr>\n",
              "    <tr>\n",
              "      <th>2</th>\n",
              "      <td>77.0</td>\n",
              "      <td>467.66</td>\n",
              "      <td>86.0</td>\n",
              "      <td>21060.45</td>\n",
              "      <td>0</td>\n",
              "    </tr>\n",
              "    <tr>\n",
              "      <th>3</th>\n",
              "      <td>106.0</td>\n",
              "      <td>745.53</td>\n",
              "      <td>81.0</td>\n",
              "      <td>8437.39</td>\n",
              "      <td>1</td>\n",
              "    </tr>\n",
              "    <tr>\n",
              "      <th>4</th>\n",
              "      <td>66.0</td>\n",
              "      <td>418.74</td>\n",
              "      <td>1.0</td>\n",
              "      <td>14502.75</td>\n",
              "      <td>0</td>\n",
              "    </tr>\n",
              "  </tbody>\n",
              "</table>\n",
              "</div>\n",
              "      <button class=\"colab-df-convert\" onclick=\"convertToInteractive('df-ab8b0484-abfe-4e9f-8d48-3a8e3088bbe9')\"\n",
              "              title=\"Convert this dataframe to an interactive table.\"\n",
              "              style=\"display:none;\">\n",
              "        \n",
              "  <svg xmlns=\"http://www.w3.org/2000/svg\" height=\"24px\"viewBox=\"0 0 24 24\"\n",
              "       width=\"24px\">\n",
              "    <path d=\"M0 0h24v24H0V0z\" fill=\"none\"/>\n",
              "    <path d=\"M18.56 5.44l.94 2.06.94-2.06 2.06-.94-2.06-.94-.94-2.06-.94 2.06-2.06.94zm-11 1L8.5 8.5l.94-2.06 2.06-.94-2.06-.94L8.5 2.5l-.94 2.06-2.06.94zm10 10l.94 2.06.94-2.06 2.06-.94-2.06-.94-.94-2.06-.94 2.06-2.06.94z\"/><path d=\"M17.41 7.96l-1.37-1.37c-.4-.4-.92-.59-1.43-.59-.52 0-1.04.2-1.43.59L10.3 9.45l-7.72 7.72c-.78.78-.78 2.05 0 2.83L4 21.41c.39.39.9.59 1.41.59.51 0 1.02-.2 1.41-.59l7.78-7.78 2.81-2.81c.8-.78.8-2.07 0-2.86zM5.41 20L4 18.59l7.72-7.72 1.47 1.35L5.41 20z\"/>\n",
              "  </svg>\n",
              "      </button>\n",
              "      \n",
              "  <style>\n",
              "    .colab-df-container {\n",
              "      display:flex;\n",
              "      flex-wrap:wrap;\n",
              "      gap: 12px;\n",
              "    }\n",
              "\n",
              "    .colab-df-convert {\n",
              "      background-color: #E8F0FE;\n",
              "      border: none;\n",
              "      border-radius: 50%;\n",
              "      cursor: pointer;\n",
              "      display: none;\n",
              "      fill: #1967D2;\n",
              "      height: 32px;\n",
              "      padding: 0 0 0 0;\n",
              "      width: 32px;\n",
              "    }\n",
              "\n",
              "    .colab-df-convert:hover {\n",
              "      background-color: #E2EBFA;\n",
              "      box-shadow: 0px 1px 2px rgba(60, 64, 67, 0.3), 0px 1px 3px 1px rgba(60, 64, 67, 0.15);\n",
              "      fill: #174EA6;\n",
              "    }\n",
              "\n",
              "    [theme=dark] .colab-df-convert {\n",
              "      background-color: #3B4455;\n",
              "      fill: #D2E3FC;\n",
              "    }\n",
              "\n",
              "    [theme=dark] .colab-df-convert:hover {\n",
              "      background-color: #434B5C;\n",
              "      box-shadow: 0px 1px 3px 1px rgba(0, 0, 0, 0.15);\n",
              "      filter: drop-shadow(0px 1px 2px rgba(0, 0, 0, 0.3));\n",
              "      fill: #FFFFFF;\n",
              "    }\n",
              "  </style>\n",
              "\n",
              "      <script>\n",
              "        const buttonEl =\n",
              "          document.querySelector('#df-ab8b0484-abfe-4e9f-8d48-3a8e3088bbe9 button.colab-df-convert');\n",
              "        buttonEl.style.display =\n",
              "          google.colab.kernel.accessAllowed ? 'block' : 'none';\n",
              "\n",
              "        async function convertToInteractive(key) {\n",
              "          const element = document.querySelector('#df-ab8b0484-abfe-4e9f-8d48-3a8e3088bbe9');\n",
              "          const dataTable =\n",
              "            await google.colab.kernel.invokeFunction('convertToInteractive',\n",
              "                                                     [key], {});\n",
              "          if (!dataTable) return;\n",
              "\n",
              "          const docLinkHtml = 'Like what you see? Visit the ' +\n",
              "            '<a target=\"_blank\" href=https://colab.research.google.com/notebooks/data_table.ipynb>data table notebook</a>'\n",
              "            + ' to learn more about interactive tables.';\n",
              "          element.innerHTML = '';\n",
              "          dataTable['output_type'] = 'display_data';\n",
              "          await google.colab.output.renderOutput(dataTable, element);\n",
              "          const docLink = document.createElement('div');\n",
              "          docLink.innerHTML = docLinkHtml;\n",
              "          element.appendChild(docLink);\n",
              "        }\n",
              "      </script>\n",
              "    </div>\n",
              "  </div>\n",
              "  "
            ]
          },
          "metadata": {},
          "execution_count": 12
        }
      ]
    },
    {
      "cell_type": "code",
      "source": [
        "# Check the shape of the data\n",
        "\n",
        "users.shape"
      ],
      "metadata": {
        "colab": {
          "base_uri": "https://localhost:8080/"
        },
        "id": "PJnVJ7Jki20a",
        "outputId": "a7f4c2bd-b271-4243-92c2-30a5d3f56ece"
      },
      "execution_count": 13,
      "outputs": [
        {
          "output_type": "execute_result",
          "data": {
            "text/plain": [
              "(3214, 5)"
            ]
          },
          "metadata": {},
          "execution_count": 13
        }
      ]
    },
    {
      "cell_type": "code",
      "source": [
        "# Check for missing values\n",
        "\n",
        "users.isnull().sum()"
      ],
      "metadata": {
        "colab": {
          "base_uri": "https://localhost:8080/"
        },
        "id": "KvkysbA2t7BD",
        "outputId": "a635a1f6-a3b6-480c-db2a-a801c0da632a"
      },
      "execution_count": 14,
      "outputs": [
        {
          "output_type": "execute_result",
          "data": {
            "text/plain": [
              "calls       0\n",
              "minutes     0\n",
              "messages    0\n",
              "mb_used     0\n",
              "is_ultra    0\n",
              "dtype: int64"
            ]
          },
          "metadata": {},
          "execution_count": 14
        }
      ]
    },
    {
      "cell_type": "markdown",
      "source": [
        "No missing values"
      ],
      "metadata": {
        "id": "1ir2YAi8uO19"
      }
    },
    {
      "cell_type": "code",
      "source": [
        "# Check for duplicates\n",
        "\n",
        "users.duplicated().sum()"
      ],
      "metadata": {
        "colab": {
          "base_uri": "https://localhost:8080/"
        },
        "id": "HAK_LoQuuSYG",
        "outputId": "45139edb-4bd9-44cd-9a4c-2269597fc7cd"
      },
      "execution_count": 15,
      "outputs": [
        {
          "output_type": "execute_result",
          "data": {
            "text/plain": [
              "0"
            ]
          },
          "metadata": {},
          "execution_count": 15
        }
      ]
    },
    {
      "cell_type": "markdown",
      "source": [
        "No duplicates"
      ],
      "metadata": {
        "id": "-byHYt4guZZD"
      }
    },
    {
      "cell_type": "markdown",
      "source": [
        "## 3. Splitting the data into training, validation and test sets"
      ],
      "metadata": {
        "id": "x5xxiL0wsplj"
      }
    },
    {
      "cell_type": "code",
      "source": [
        "# Spliting the data into training, validation and test sets (ratio 60:20:20 used)\n",
        "# First split into 2, training and remainder\n",
        "\n",
        "features = users.drop(['is_ultra'], axis=1)\n",
        "target = users['is_ultra']\n",
        "\n",
        "features_train, features_remainder, target_train, target_remainder = train_test_split(\n",
        "    features, target, test_size=0.4, random_state=12345\n",
        ")\n",
        "\n",
        "# Proceed to split the remainder into validation and test sets\n",
        "\n",
        "features_valid, features_test, target_valid, target_test = train_test_split(\n",
        "    features_remainder, target_remainder, test_size=0.5, random_state=12345\n",
        ")\n",
        "\n",
        "print(features_train.shape)\n",
        "print(features_valid.shape)\n",
        "print(features_test.shape)\n",
        "print(target_train.shape)\n",
        "print(target_valid.shape)\n",
        "print(target_test.shape)"
      ],
      "metadata": {
        "colab": {
          "base_uri": "https://localhost:8080/"
        },
        "id": "M0jOQa9qic9B",
        "outputId": "9ed9bea5-25e4-468c-8703-e54a30cfe6e5"
      },
      "execution_count": 16,
      "outputs": [
        {
          "output_type": "stream",
          "name": "stdout",
          "text": [
            "(1928, 4)\n",
            "(643, 4)\n",
            "(643, 4)\n",
            "(1928,)\n",
            "(643,)\n",
            "(643,)\n"
          ]
        }
      ]
    },
    {
      "cell_type": "markdown",
      "source": [
        "## 4. Testing the various models to find most ideal:\n"
      ],
      "metadata": {
        "id": "AMkm1Jc9Zz9E"
      }
    },
    {
      "cell_type": "code",
      "source": [
        "# Test the Decision tree model\n",
        "\n",
        "for depth in range(1, 16, 1):\n",
        "    model = DecisionTreeClassifier(random_state=12345, max_depth = depth)\n",
        "    model.fit(features_train, target_train)\n",
        "    predicted_train = model.predict(features_train)\n",
        "    predicted_valid = model.predict(features_valid)\n",
        "    predicted_test = model.predict(features_test)\n",
        "    print('Accuracy at depth',depth,': Training Set:', accuracy_score(target_train, predicted_train),', Validation Set:', accuracy_score(target_valid, predicted_valid),', Test Set:', accuracy_score(target_test, predicted_test))\n"
      ],
      "metadata": {
        "colab": {
          "base_uri": "https://localhost:8080/"
        },
        "id": "9ko_8YJzOTP5",
        "outputId": "ffb99220-7b92-43b0-e0ab-199d10b9bb01"
      },
      "execution_count": 17,
      "outputs": [
        {
          "output_type": "stream",
          "name": "stdout",
          "text": [
            "Accuracy at depth 1 : Training Set: 0.7577800829875518 , Validation Set: 0.7542768273716952 , Test Set: 0.7356143079315708\n",
            "Accuracy at depth 2 : Training Set: 0.7878630705394191 , Validation Set: 0.7822706065318819 , Test Set: 0.7744945567651633\n",
            "Accuracy at depth 3 : Training Set: 0.8075726141078838 , Validation Set: 0.7853810264385692 , Test Set: 0.7791601866251944\n",
            "Accuracy at depth 4 : Training Set: 0.8106846473029046 , Validation Set: 0.7791601866251944 , Test Set: 0.7744945567651633\n",
            "Accuracy at depth 5 : Training Set: 0.8200207468879668 , Validation Set: 0.7791601866251944 , Test Set: 0.7838258164852255\n",
            "Accuracy at depth 6 : Training Set: 0.8376556016597511 , Validation Set: 0.7838258164852255 , Test Set: 0.776049766718507\n",
            "Accuracy at depth 7 : Training Set: 0.8558091286307054 , Validation Set: 0.7822706065318819 , Test Set: 0.7993779160186625\n",
            "Accuracy at depth 8 : Training Set: 0.8625518672199171 , Validation Set: 0.7791601866251944 , Test Set: 0.7931570762052877\n",
            "Accuracy at depth 9 : Training Set: 0.8812240663900415 , Validation Set: 0.7822706065318819 , Test Set: 0.7807153965785381\n",
            "Accuracy at depth 10 : Training Set: 0.8890041493775933 , Validation Set: 0.7744945567651633 , Test Set: 0.7884914463452566\n",
            "Accuracy at depth 11 : Training Set: 0.9066390041493776 , Validation Set: 0.7620528771384136 , Test Set: 0.7744945567651633\n",
            "Accuracy at depth 12 : Training Set: 0.9253112033195021 , Validation Set: 0.7620528771384136 , Test Set: 0.7807153965785381\n",
            "Accuracy at depth 13 : Training Set: 0.941908713692946 , Validation Set: 0.7558320373250389 , Test Set: 0.7713841368584758\n",
            "Accuracy at depth 14 : Training Set: 0.9553941908713693 , Validation Set: 0.7589424572317263 , Test Set: 0.76049766718507\n",
            "Accuracy at depth 15 : Training Set: 0.9678423236514523 , Validation Set: 0.7465007776049767 , Test Set: 0.7713841368584758\n"
          ]
        }
      ]
    },
    {
      "cell_type": "markdown",
      "source": [
        "Max_depth of 2 gives the best accuracy using test data, while also reducing overfittng. Accuracy is 0.774."
      ],
      "metadata": {
        "id": "vmMs6sDhb7vA"
      }
    },
    {
      "cell_type": "code",
      "source": [
        "# Testing RandomForest\n",
        "\n",
        "for depth in range(1, 16, 1):\n",
        "  model = RandomForestClassifier(n_estimators=10, max_depth=depth, random_state=12345)\n",
        "  model.fit(features_train, target_train)\n",
        "  predicted_train = model.predict(features_train)\n",
        "  predicted_valid = model.predict(features_valid)\n",
        "  predicted_test = model.predict(features_test)\n",
        "  print('Accuracy at depth',depth,': Training Set:', accuracy_score(target_train, predicted_train),', Validation Set:', accuracy_score(target_valid, predicted_valid),', Test Set:', accuracy_score(target_test, predicted_test))\n",
        "\n",
        "    \n",
        "\n",
        "\n",
        "\n"
      ],
      "metadata": {
        "colab": {
          "base_uri": "https://localhost:8080/"
        },
        "id": "xia6szISOdKA",
        "outputId": "a8d83cfe-649e-434a-cb80-890a0758946e"
      },
      "execution_count": 18,
      "outputs": [
        {
          "output_type": "stream",
          "name": "stdout",
          "text": [
            "Accuracy at depth 1 : Training Set: 0.7442946058091287 , Validation Set: 0.7558320373250389 , Test Set: 0.7402799377916018\n",
            "Accuracy at depth 2 : Training Set: 0.7785269709543569 , Validation Set: 0.7776049766718507 , Test Set: 0.776049766718507\n",
            "Accuracy at depth 3 : Training Set: 0.8101659751037344 , Validation Set: 0.7853810264385692 , Test Set: 0.776049766718507\n",
            "Accuracy at depth 4 : Training Set: 0.8143153526970954 , Validation Set: 0.7900466562986003 , Test Set: 0.7853810264385692\n",
            "Accuracy at depth 5 : Training Set: 0.8241701244813278 , Validation Set: 0.7931570762052877 , Test Set: 0.7900466562986003\n",
            "Accuracy at depth 6 : Training Set: 0.8350622406639004 , Validation Set: 0.8009331259720062 , Test Set: 0.7916018662519441\n",
            "Accuracy at depth 7 : Training Set: 0.8552904564315352 , Validation Set: 0.7947122861586314 , Test Set: 0.8009331259720062\n",
            "Accuracy at depth 8 : Training Set: 0.8698132780082988 , Validation Set: 0.7962674961119751 , Test Set: 0.807153965785381\n",
            "Accuracy at depth 9 : Training Set: 0.8729253112033195 , Validation Set: 0.7853810264385692 , Test Set: 0.8133748055987559\n",
            "Accuracy at depth 10 : Training Set: 0.8858921161825726 , Validation Set: 0.7916018662519441 , Test Set: 0.8009331259720062\n",
            "Accuracy at depth 11 : Training Set: 0.8947095435684648 , Validation Set: 0.7962674961119751 , Test Set: 0.7916018662519441\n",
            "Accuracy at depth 12 : Training Set: 0.9030082987551867 , Validation Set: 0.7884914463452566 , Test Set: 0.7916018662519441\n",
            "Accuracy at depth 13 : Training Set: 0.9216804979253111 , Validation Set: 0.7853810264385692 , Test Set: 0.7993779160186625\n",
            "Accuracy at depth 14 : Training Set: 0.9299792531120332 , Validation Set: 0.7776049766718507 , Test Set: 0.7962674961119751\n",
            "Accuracy at depth 15 : Training Set: 0.9517634854771784 , Validation Set: 0.7776049766718507 , Test Set: 0.7962674961119751\n"
          ]
        }
      ]
    },
    {
      "cell_type": "markdown",
      "source": [
        "Using 10 trees with Max_depth of 2 gives an accuracy using test data almost equal to that of training and validation sets. Accuracy is 0.776."
      ],
      "metadata": {
        "id": "JNF15hWUgZ8p"
      }
    },
    {
      "cell_type": "code",
      "source": [
        "# Testing the LogisticRegression model\n",
        "\n",
        "model = LogisticRegression(random_state=12345, solver='liblinear')\n",
        "model.fit(features_train, target_train)\n",
        "predicted_train = model.predict(features_train)\n",
        "predicted_valid = model.predict(features_valid)\n",
        "predicted_test = model.predict(features_test)\n",
        "print('Accuracy at depth',depth,': Training Set:', accuracy_score(target_train, predicted_train),', Validation Set:', accuracy_score(target_valid, predicted_valid),', Test Set:', accuracy_score(target_test, predicted_test))"
      ],
      "metadata": {
        "colab": {
          "base_uri": "https://localhost:8080/"
        },
        "id": "BAnvTICqhGoI",
        "outputId": "0cb9f874-32ad-44c3-cadc-e553f10b74e5"
      },
      "execution_count": 19,
      "outputs": [
        {
          "output_type": "stream",
          "name": "stdout",
          "text": [
            "Accuracy at depth 15 : Training Set: 0.7505186721991701 , Validation Set: 0.7589424572317263 , Test Set: 0.7402799377916018\n"
          ]
        }
      ]
    },
    {
      "cell_type": "markdown",
      "source": [
        "The LinearRegression model gives an accuracy of less than 0.75 when tested using the test data set."
      ],
      "metadata": {
        "id": "1P1dykbbhomJ"
      }
    },
    {
      "cell_type": "markdown",
      "source": [
        "Comparing all 3 models: \n",
        "Decision Tree: 0.774\n",
        "Random Forest: 0.776\n",
        "Linear Regression: 0.740\n",
        "\n",
        "Therefore the best model for this case is the Random Forest."
      ],
      "metadata": {
        "id": "74Pjmm0QkOIA"
      }
    },
    {
      "cell_type": "markdown",
      "source": [
        "## 5. Sanity Check"
      ],
      "metadata": {
        "id": "jQHqKbjUtHfX"
      }
    },
    {
      "cell_type": "code",
      "source": [
        "# Sanity Check\n",
        "\n",
        "model = RandomForestClassifier(n_estimators=10, max_depth=2, random_state=12345)\n",
        "model.fit(features_train, target_train)\n",
        "predicted_test = pd.Series(model.predict(features_test))\n",
        "\n",
        "class_frequency = predicted_test.value_counts(normalize=True)\n",
        "print(class_frequency)\n",
        "class_frequency.plot(kind='bar');"
      ],
      "metadata": {
        "colab": {
          "base_uri": "https://localhost:8080/",
          "height": 314
        },
        "id": "f3w1UFR5mZXT",
        "outputId": "cc0540a8-6b5b-4df1-c138-e95e1cc13022"
      },
      "execution_count": 20,
      "outputs": [
        {
          "output_type": "stream",
          "name": "stdout",
          "text": [
            "0    0.861586\n",
            "1    0.138414\n",
            "dtype: float64\n"
          ]
        },
        {
          "output_type": "display_data",
          "data": {
            "text/plain": [
              "<Figure size 432x288 with 1 Axes>"
            ],
            "image/png": "[encoded data removed]"
          },
          "metadata": {
            "needs_background": "light"
          }
        }
      ]
    }
  ]
}